{
  "nbformat": 4,
  "nbformat_minor": 0,
  "metadata": {
    "colab": {
      "provenance": [],
      "include_colab_link": true
    },
    "kernelspec": {
      "name": "python3",
      "display_name": "Python 3"
    },
    "language_info": {
      "name": "python"
    }
  },
  "cells": [
    {
      "cell_type": "markdown",
      "metadata": {
        "id": "view-in-github",
        "colab_type": "text"
      },
      "source": [
        "<a href=\"https://colab.research.google.com/github/AnthonyWalujono/BlackJack/blob/master/CPSC_392_Causal_Inference_Example.ipynb\" target=\"_parent\"><img src=\"https://colab.research.google.com/assets/colab-badge.svg\" alt=\"Open In Colab\"/></a>"
      ]
    },
    {
      "cell_type": "markdown",
      "source": [
        "# <u>Causal Inference Modeling - IP Weighting</u>\n",
        "\n",
        "## Why not a normal linear regression?\n",
        "In standard linear regression, we treat all data equally when creating a line of best fit. If there is bias in the data, the model learns that same bias and the line we create will be slanted away from the true model. If we create weights for our model, similar to a weighted average, we can adjust for the bias that comes from each variable.\n",
        "\n",
        "## How to adjust for bias:\n",
        "In causal inference, we care about some intervention that has a causal effect on an outcome typically called **treatment**. Additionally, we need to observe all other common causes of the outcome which are called **confounders**. Confounders are usually, but not exclusively, the variables that bring a bias. We take a few steps to adjust for this bias using the ***IP (inverse probability) Weighting method***:\n",
        "\n",
        "1. Select only the columns in the data that include the outcome, treatment, and all confounders.\n",
        "\n",
        "2. Create a logistic regression model (assuming a binary treatment) that has the treatment as the \"y\" and the confounders as the \"X\" in our model.\n",
        "\n",
        "3. Taking the inverse of the probability, or $1/P(treatment)$, from out logistic model as our weights.\n",
        "\n",
        "4. Create a new linear regression model that predicts the outcome using the treatment, weighted by our inverse probabilities.\n",
        "\n",
        "5. Interpret the coefficient of the treatment in the model as the casaul effect on the outcome."
      ],
      "metadata": {
        "id": "8WZXY__xY2IF"
      }
    },
    {
      "cell_type": "markdown",
      "source": [
        "## Epidemiologic Followup Study - NHEFS\n",
        "\n",
        "This NHEFS was a study that analyzed people's living habits, background, and nutrition habits throughout the 70's, 80's, and early 90's. We will primarily be using this dataset to determine the *causal effect of smoking on weight gain*. A full description of the study can be found here:\n",
        "\n",
        "https://wwwn.cdc.gov/nchs/nhanes/nhefs/#dfd\n",
        "\n",
        "### Data Dictionary\n",
        "\n",
        "- **wt82_71**: difference in weight in 1971 and 1982 (outcome)\n",
        "- **qsmk**: binary indicator if the individual quit smoking (treatment)\n",
        "- **sex**: 0: men, 1: women\n",
        "- **age**: age of the individual in 1971\n",
        "- **race**: 0: white, 1: non-white\n",
        "- **education**: 1: 8th grade or less, 2: HS dropout, 3: HS, 4:College dropout, 5: College or more\n",
        "- **wt71**: weight in 1971\n",
        "- **active**: 0: very active, 1: moderately active, 2: inactive\n",
        "- **exercise**: 0: much exercise, 1: moderate exercise, 2: little or no exercise\n",
        "- **smokeintensity**: number of cigarettes per day in 1971\n",
        "- **smokeyrs**: years of smoking in 1971"
      ],
      "metadata": {
        "id": "tu-BBWdadI6z"
      }
    },
    {
      "cell_type": "code",
      "source": [
        "### Import necessary libraries ###\n",
        "import pandas as pd\n",
        "from collections import OrderedDict\n",
        "from sklearn.linear_model import LogisticRegression, LinearRegression\n",
        "from sklearn.metrics import classification_report, accuracy_score, roc_auc_score, ConfusionMatrixDisplay\n",
        "import matplotlib.pyplot as plt"
      ],
      "metadata": {
        "id": "VthXfGVeQmHI"
      },
      "execution_count": null,
      "outputs": []
    },
    {
      "cell_type": "code",
      "execution_count": null,
      "metadata": {
        "id": "480cqUBGOEuA"
      },
      "outputs": [],
      "source": [
        "### Load the data ###\n",
        "data = pd.read_csv('https://cdn1.sph.harvard.edu/wp-content/uploads/sites/1268/1268/20/nhefs.csv')"
      ]
    },
    {
      "cell_type": "code",
      "source": [
        "### Filter the data to outcome, treatment, and confounders ###\n",
        "# outcome - wt82_71\n",
        "# treatment - qsmk\n",
        "# confounders - sex, age, race, education, wt71, active, exercise, smokeintensity, and smokeyrs\n",
        "restriction_cols = ['wt82_71', 'qsmk', 'sex', 'age', 'race', 'education', 'wt71', 'active', 'exercise', 'smokeintensity', 'smokeyrs']\n",
        "data_clean = data[restriction_cols].dropna() # filter to just the columns above\n",
        "data_clean.head()"
      ],
      "metadata": {
        "colab": {
          "base_uri": "https://localhost:8080/",
          "height": 206
        },
        "id": "oUHYsvTFOb8X",
        "outputId": "f58066a6-1999-4597-c194-bcbdf37f7ebb"
      },
      "execution_count": null,
      "outputs": [
        {
          "output_type": "execute_result",
          "data": {
            "text/plain": [
              "     wt82_71  qsmk  sex  age  race  education   wt71  active  exercise  \\\n",
              "0 -10.093960     0    0   42     1          1  79.04       0         2   \n",
              "1   2.604970     0    0   36     0          2  58.63       0         0   \n",
              "2   9.414486     0    1   56     1          2  56.81       0         2   \n",
              "3   4.990117     0    0   68     1          1  59.42       1         2   \n",
              "4   4.989251     0    0   40     0          2  87.09       1         1   \n",
              "\n",
              "   smokeintensity  smokeyrs  \n",
              "0              30        29  \n",
              "1              20        24  \n",
              "2              20        26  \n",
              "3               3        53  \n",
              "4              20        19  "
            ],
            "text/html": [
              "\n",
              "  <div id=\"df-e3a11f53-a326-4792-9d9b-786f4b737159\">\n",
              "    <div class=\"colab-df-container\">\n",
              "      <div>\n",
              "<style scoped>\n",
              "    .dataframe tbody tr th:only-of-type {\n",
              "        vertical-align: middle;\n",
              "    }\n",
              "\n",
              "    .dataframe tbody tr th {\n",
              "        vertical-align: top;\n",
              "    }\n",
              "\n",
              "    .dataframe thead th {\n",
              "        text-align: right;\n",
              "    }\n",
              "</style>\n",
              "<table border=\"1\" class=\"dataframe\">\n",
              "  <thead>\n",
              "    <tr style=\"text-align: right;\">\n",
              "      <th></th>\n",
              "      <th>wt82_71</th>\n",
              "      <th>qsmk</th>\n",
              "      <th>sex</th>\n",
              "      <th>age</th>\n",
              "      <th>race</th>\n",
              "      <th>education</th>\n",
              "      <th>wt71</th>\n",
              "      <th>active</th>\n",
              "      <th>exercise</th>\n",
              "      <th>smokeintensity</th>\n",
              "      <th>smokeyrs</th>\n",
              "    </tr>\n",
              "  </thead>\n",
              "  <tbody>\n",
              "    <tr>\n",
              "      <th>0</th>\n",
              "      <td>-10.093960</td>\n",
              "      <td>0</td>\n",
              "      <td>0</td>\n",
              "      <td>42</td>\n",
              "      <td>1</td>\n",
              "      <td>1</td>\n",
              "      <td>79.04</td>\n",
              "      <td>0</td>\n",
              "      <td>2</td>\n",
              "      <td>30</td>\n",
              "      <td>29</td>\n",
              "    </tr>\n",
              "    <tr>\n",
              "      <th>1</th>\n",
              "      <td>2.604970</td>\n",
              "      <td>0</td>\n",
              "      <td>0</td>\n",
              "      <td>36</td>\n",
              "      <td>0</td>\n",
              "      <td>2</td>\n",
              "      <td>58.63</td>\n",
              "      <td>0</td>\n",
              "      <td>0</td>\n",
              "      <td>20</td>\n",
              "      <td>24</td>\n",
              "    </tr>\n",
              "    <tr>\n",
              "      <th>2</th>\n",
              "      <td>9.414486</td>\n",
              "      <td>0</td>\n",
              "      <td>1</td>\n",
              "      <td>56</td>\n",
              "      <td>1</td>\n",
              "      <td>2</td>\n",
              "      <td>56.81</td>\n",
              "      <td>0</td>\n",
              "      <td>2</td>\n",
              "      <td>20</td>\n",
              "      <td>26</td>\n",
              "    </tr>\n",
              "    <tr>\n",
              "      <th>3</th>\n",
              "      <td>4.990117</td>\n",
              "      <td>0</td>\n",
              "      <td>0</td>\n",
              "      <td>68</td>\n",
              "      <td>1</td>\n",
              "      <td>1</td>\n",
              "      <td>59.42</td>\n",
              "      <td>1</td>\n",
              "      <td>2</td>\n",
              "      <td>3</td>\n",
              "      <td>53</td>\n",
              "    </tr>\n",
              "    <tr>\n",
              "      <th>4</th>\n",
              "      <td>4.989251</td>\n",
              "      <td>0</td>\n",
              "      <td>0</td>\n",
              "      <td>40</td>\n",
              "      <td>0</td>\n",
              "      <td>2</td>\n",
              "      <td>87.09</td>\n",
              "      <td>1</td>\n",
              "      <td>1</td>\n",
              "      <td>20</td>\n",
              "      <td>19</td>\n",
              "    </tr>\n",
              "  </tbody>\n",
              "</table>\n",
              "</div>\n",
              "      <button class=\"colab-df-convert\" onclick=\"convertToInteractive('df-e3a11f53-a326-4792-9d9b-786f4b737159')\"\n",
              "              title=\"Convert this dataframe to an interactive table.\"\n",
              "              style=\"display:none;\">\n",
              "        \n",
              "  <svg xmlns=\"http://www.w3.org/2000/svg\" height=\"24px\"viewBox=\"0 0 24 24\"\n",
              "       width=\"24px\">\n",
              "    <path d=\"M0 0h24v24H0V0z\" fill=\"none\"/>\n",
              "    <path d=\"M18.56 5.44l.94 2.06.94-2.06 2.06-.94-2.06-.94-.94-2.06-.94 2.06-2.06.94zm-11 1L8.5 8.5l.94-2.06 2.06-.94-2.06-.94L8.5 2.5l-.94 2.06-2.06.94zm10 10l.94 2.06.94-2.06 2.06-.94-2.06-.94-.94-2.06-.94 2.06-2.06.94z\"/><path d=\"M17.41 7.96l-1.37-1.37c-.4-.4-.92-.59-1.43-.59-.52 0-1.04.2-1.43.59L10.3 9.45l-7.72 7.72c-.78.78-.78 2.05 0 2.83L4 21.41c.39.39.9.59 1.41.59.51 0 1.02-.2 1.41-.59l7.78-7.78 2.81-2.81c.8-.78.8-2.07 0-2.86zM5.41 20L4 18.59l7.72-7.72 1.47 1.35L5.41 20z\"/>\n",
              "  </svg>\n",
              "      </button>\n",
              "      \n",
              "  <style>\n",
              "    .colab-df-container {\n",
              "      display:flex;\n",
              "      flex-wrap:wrap;\n",
              "      gap: 12px;\n",
              "    }\n",
              "\n",
              "    .colab-df-convert {\n",
              "      background-color: #E8F0FE;\n",
              "      border: none;\n",
              "      border-radius: 50%;\n",
              "      cursor: pointer;\n",
              "      display: none;\n",
              "      fill: #1967D2;\n",
              "      height: 32px;\n",
              "      padding: 0 0 0 0;\n",
              "      width: 32px;\n",
              "    }\n",
              "\n",
              "    .colab-df-convert:hover {\n",
              "      background-color: #E2EBFA;\n",
              "      box-shadow: 0px 1px 2px rgba(60, 64, 67, 0.3), 0px 1px 3px 1px rgba(60, 64, 67, 0.15);\n",
              "      fill: #174EA6;\n",
              "    }\n",
              "\n",
              "    [theme=dark] .colab-df-convert {\n",
              "      background-color: #3B4455;\n",
              "      fill: #D2E3FC;\n",
              "    }\n",
              "\n",
              "    [theme=dark] .colab-df-convert:hover {\n",
              "      background-color: #434B5C;\n",
              "      box-shadow: 0px 1px 3px 1px rgba(0, 0, 0, 0.15);\n",
              "      filter: drop-shadow(0px 1px 2px rgba(0, 0, 0, 0.3));\n",
              "      fill: #FFFFFF;\n",
              "    }\n",
              "  </style>\n",
              "\n",
              "      <script>\n",
              "        const buttonEl =\n",
              "          document.querySelector('#df-e3a11f53-a326-4792-9d9b-786f4b737159 button.colab-df-convert');\n",
              "        buttonEl.style.display =\n",
              "          google.colab.kernel.accessAllowed ? 'block' : 'none';\n",
              "\n",
              "        async function convertToInteractive(key) {\n",
              "          const element = document.querySelector('#df-e3a11f53-a326-4792-9d9b-786f4b737159');\n",
              "          const dataTable =\n",
              "            await google.colab.kernel.invokeFunction('convertToInteractive',\n",
              "                                                     [key], {});\n",
              "          if (!dataTable) return;\n",
              "\n",
              "          const docLinkHtml = 'Like what you see? Visit the ' +\n",
              "            '<a target=\"_blank\" href=https://colab.research.google.com/notebooks/data_table.ipynb>data table notebook</a>'\n",
              "            + ' to learn more about interactive tables.';\n",
              "          element.innerHTML = '';\n",
              "          dataTable['output_type'] = 'display_data';\n",
              "          await google.colab.output.renderOutput(dataTable, element);\n",
              "          const docLink = document.createElement('div');\n",
              "          docLink.innerHTML = docLinkHtml;\n",
              "          element.appendChild(docLink);\n",
              "        }\n",
              "      </script>\n",
              "    </div>\n",
              "  </div>\n",
              "  "
            ]
          },
          "metadata": {},
          "execution_count": 46
        }
      ]
    },
    {
      "cell_type": "code",
      "source": [
        "### Observe differences in the treated and untreated ###\n",
        "summaries = OrderedDict((\n",
        "    ('age', 'mean'),\n",
        "    ('sex', lambda x: (100 * (x == 0)).mean()),\n",
        "    ('race', lambda x: (100 * (x == 0)).mean()),\n",
        "    ('wt71', 'mean'),\n",
        "    ('smokeintensity', 'mean'),\n",
        "    ('smokeyrs', 'mean')\n",
        "))\n",
        "\n",
        "table = data_clean.groupby('qsmk').agg(summaries)\n",
        "table.sort_index(ascending=False, inplace=True)\n",
        "table = table.T\n",
        "\n",
        "table.index = [\n",
        "    'Age, years',\n",
        "    'Men, %',\n",
        "    'White, %',\n",
        "    'Weight, kg',\n",
        "    'Cigarettes/day',\n",
        "    'Years smoking'\n",
        "]\n",
        "\n",
        "table.style.format(\"{:>0.1f}\")"
      ],
      "metadata": {
        "colab": {
          "base_uri": "https://localhost:8080/",
          "height": 237
        },
        "id": "ooGBJbwyPS7L",
        "outputId": "6319c736-29d0-411d-f3d5-caea7481c7fd"
      },
      "execution_count": null,
      "outputs": [
        {
          "output_type": "execute_result",
          "data": {
            "text/plain": [
              "<pandas.io.formats.style.Styler at 0x7f78fd4f05d0>"
            ],
            "text/html": [
              "<style type=\"text/css\">\n",
              "</style>\n",
              "<table id=\"T_dad0a_\" class=\"dataframe\">\n",
              "  <thead>\n",
              "    <tr>\n",
              "      <th class=\"index_name level0\" >qsmk</th>\n",
              "      <th class=\"col_heading level0 col0\" >1</th>\n",
              "      <th class=\"col_heading level0 col1\" >0</th>\n",
              "    </tr>\n",
              "  </thead>\n",
              "  <tbody>\n",
              "    <tr>\n",
              "      <th id=\"T_dad0a_level0_row0\" class=\"row_heading level0 row0\" >Age, years</th>\n",
              "      <td id=\"T_dad0a_row0_col0\" class=\"data row0 col0\" >46.2</td>\n",
              "      <td id=\"T_dad0a_row0_col1\" class=\"data row0 col1\" >42.8</td>\n",
              "    </tr>\n",
              "    <tr>\n",
              "      <th id=\"T_dad0a_level0_row1\" class=\"row_heading level0 row1\" >Men, %</th>\n",
              "      <td id=\"T_dad0a_row1_col0\" class=\"data row1 col0\" >54.6</td>\n",
              "      <td id=\"T_dad0a_row1_col1\" class=\"data row1 col1\" >46.6</td>\n",
              "    </tr>\n",
              "    <tr>\n",
              "      <th id=\"T_dad0a_level0_row2\" class=\"row_heading level0 row2\" >White, %</th>\n",
              "      <td id=\"T_dad0a_row2_col0\" class=\"data row2 col0\" >91.1</td>\n",
              "      <td id=\"T_dad0a_row2_col1\" class=\"data row2 col1\" >85.4</td>\n",
              "    </tr>\n",
              "    <tr>\n",
              "      <th id=\"T_dad0a_level0_row3\" class=\"row_heading level0 row3\" >Weight, kg</th>\n",
              "      <td id=\"T_dad0a_row3_col0\" class=\"data row3 col0\" >72.4</td>\n",
              "      <td id=\"T_dad0a_row3_col1\" class=\"data row3 col1\" >70.3</td>\n",
              "    </tr>\n",
              "    <tr>\n",
              "      <th id=\"T_dad0a_level0_row4\" class=\"row_heading level0 row4\" >Cigarettes/day</th>\n",
              "      <td id=\"T_dad0a_row4_col0\" class=\"data row4 col0\" >18.6</td>\n",
              "      <td id=\"T_dad0a_row4_col1\" class=\"data row4 col1\" >21.2</td>\n",
              "    </tr>\n",
              "    <tr>\n",
              "      <th id=\"T_dad0a_level0_row5\" class=\"row_heading level0 row5\" >Years smoking</th>\n",
              "      <td id=\"T_dad0a_row5_col0\" class=\"data row5 col0\" >26.0</td>\n",
              "      <td id=\"T_dad0a_row5_col1\" class=\"data row5 col1\" >24.1</td>\n",
              "    </tr>\n",
              "  </tbody>\n",
              "</table>\n"
            ]
          },
          "metadata": {},
          "execution_count": 47
        }
      ]
    },
    {
      "cell_type": "code",
      "source": [
        "### Calculate the inverse probabilities of treatment (qsmk) ###\n",
        "\n",
        "# Create dummy variables for discrete data\n",
        "edu_dummies = pd.get_dummies(data_clean.education, prefix='edu')\n",
        "exercise_dummies = pd.get_dummies(data_clean.exercise, prefix='exercise')\n",
        "active_dummies = pd.get_dummies(data_clean.active, prefix='active')\n",
        "\n",
        "# add dummy variables to dataset\n",
        "train = pd.concat(\n",
        "    [data_clean, edu_dummies, exercise_dummies, active_dummies],\n",
        "    axis=1\n",
        ")\n",
        "\n",
        "train.columns"
      ],
      "metadata": {
        "colab": {
          "base_uri": "https://localhost:8080/"
        },
        "id": "Uq2mew03aGp9",
        "outputId": "668a03e3-a85c-45fb-b2c5-5c6bbd0a8340"
      },
      "execution_count": null,
      "outputs": [
        {
          "output_type": "execute_result",
          "data": {
            "text/plain": [
              "Index(['wt82_71', 'qsmk', 'sex', 'age', 'race', 'education', 'wt71', 'active',\n",
              "       'exercise', 'smokeintensity', 'smokeyrs', 'edu_1', 'edu_2', 'edu_3',\n",
              "       'edu_4', 'edu_5', 'exercise_0', 'exercise_1', 'exercise_2', 'active_0',\n",
              "       'active_1', 'active_2'],\n",
              "      dtype='object')"
            ]
          },
          "metadata": {},
          "execution_count": 48
        }
      ]
    },
    {
      "cell_type": "code",
      "source": [
        "### YOUR CODE HERE ###\n",
        "# grab covariates (the confounders) and the treatment\n",
        "cov = train[['sex', 'age', 'race', 'wt71',\n",
        "       'smokeintensity', 'smokeyrs', 'edu_1', 'edu_2', 'edu_3',\n",
        "       'edu_4', 'edu_5', 'exercise_0', 'exercise_1', 'exercise_2', 'active_0',\n",
        "       'active_1', 'active_2']]\n",
        "tr = train['qsmk'] # pull our outcome, qsmk and pull it from train\n",
        "\n",
        "\n",
        "# train a logistic model, with penalty = \"none\" to determine probabilities of each individual quitting smoking\n",
        "# using cov and tr from above\n",
        "logit = LogisticRegression(penalty='none', random_state=392, max_iter=10000)\n",
        "logit.fit(cov, tr)\n",
        "\n",
        "# use .predict(), and .predict_proba() to predict both actual treatments and probability of treatment\n",
        "tr_hat = logit.predict(cov)\n",
        "tr_hat_probs = logit.predict_proba(cov) #use predict_proba() to predict the probability of quitting smoking\n",
        "tr_hat_probs = tr_hat_probs[:,1]\n",
        "\n",
        "### /YOUR CODE HERE ###\n",
        "\n",
        "# analyze fit of model (not that important, but still worth looking at)\n",
        "test_accuracy = accuracy_score(tr, tr_hat)*100\n",
        "test_auc_roc = roc_auc_score(tr, tr_hat_probs)*100\n",
        "ConfusionMatrixDisplay.from_predictions(tr, tr_hat)\n",
        "print('Testing AUC: %.2f %%' % test_auc_roc, '\\n')\n",
        "print('Testing accuracy: %.2f %%' % test_accuracy)\n",
        "print()\n",
        "print(\"Classification Report:\")\n",
        "print(classification_report(tr_hat, tr))"
      ],
      "metadata": {
        "colab": {
          "base_uri": "https://localhost:8080/",
          "height": 522
        },
        "id": "SLMlNR7Mng25",
        "outputId": "a22e6dea-709c-46cb-b39e-8fdf3908a7d2"
      },
      "execution_count": null,
      "outputs": [
        {
          "output_type": "stream",
          "name": "stdout",
          "text": [
            "Testing AUC: 64.99 % \n",
            "\n",
            "Testing accuracy: 74.90 %\n",
            "\n",
            "Classification Report:\n",
            "              precision    recall  f1-score   support\n",
            "\n",
            "           0       0.99      0.75      0.85      1528\n",
            "           1       0.06      0.63      0.11        38\n",
            "\n",
            "    accuracy                           0.75      1566\n",
            "   macro avg       0.52      0.69      0.48      1566\n",
            "weighted avg       0.97      0.75      0.84      1566\n",
            "\n"
          ]
        },
        {
          "output_type": "display_data",
          "data": {
            "text/plain": [
              "<Figure size 432x288 with 2 Axes>"
            ],
            "image/png": "[encoded data removed]"
          },
          "metadata": {
            "needs_background": "light"
          }
        }
      ]
    },
    {
      "cell_type": "code",
      "source": [
        "### Fit weighted linear regression to make causal inference ###\n",
        "untreated_idx = [idx for idx, val in enumerate(train.qsmk) if val == 0]\n",
        "tr_hat_probs[untreated_idx] = 1 - tr_hat_probs[untreated_idx] # use 1 - P(tr) for untreated\n",
        "weights = 1/tr_hat_probs\n",
        "\n",
        "fig, ax = plt.subplots(figsize=(8, 6))\n",
        "\n",
        "plt.xlabel(\"Weight value\")\n",
        "plt.ylabel(\"Frequency\")\n",
        "plt.xlim(0,15)\n",
        "ax.hist(weights);"
      ],
      "metadata": {
        "id": "C3vhTElmBWr9",
        "colab": {
          "base_uri": "https://localhost:8080/",
          "height": 388
        },
        "outputId": "6bc30260-61c8-4ace-828c-0e9435d791bc"
      },
      "execution_count": null,
      "outputs": [
        {
          "output_type": "display_data",
          "data": {
            "text/plain": [
              "<Figure size 576x432 with 1 Axes>"
            ],
            "image/png": "[encoded data removed]"
          },
          "metadata": {
            "needs_background": "light"
          }
        }
      ]
    },
    {
      "cell_type": "code",
      "source": [
        "\n",
        "\n",
        "X = data_clean[['qsmk']] # df[[var]] syntax keeps the data as a data frame rather than a series\n",
        "y = data_clean['wt82_71']\n",
        "\n",
        "# fit a baseline linear model for comparison\n",
        "lr_unweighted = LinearRegression(fit_intercept=True)\n",
        "lr_unweighted = lr_unweighted.fit(X, y)\n",
        "\n",
        "# our linear regression for causal inference\n",
        "lr_weighted = LinearRegression(fit_intercept=True)\n",
        "lr_weighted = lr_weighted.fit(X, y, weights)\n",
        "\n",
        "# track the treatment effects in both the weighted and unweighted models\n",
        "biased_effect = lr_unweighted.coef_[0]\n",
        "causal_effect = lr_weighted.coef_[0]\n",
        "\n",
        "print('Unweighted Model Coefs:')\n",
        "print(pd.DataFrame({'coef': [lr_unweighted.intercept_, biased_effect],}, index=['intercept', 'qsmk']))\n",
        "print()\n",
        "print('Weighted Model Coefs:')\n",
        "print(pd.DataFrame({'coef': [lr_weighted.intercept_, causal_effect],}, index=['intercept', 'qsmk']))"
      ],
      "metadata": {
        "id": "p_3ntIqeTOs_",
        "colab": {
          "base_uri": "https://localhost:8080/"
        },
        "outputId": "8c0fb832-14eb-44a5-faba-a623a6900b30"
      },
      "execution_count": null,
      "outputs": [
        {
          "output_type": "stream",
          "name": "stdout",
          "text": [
            "Unweighted Model Coefs:\n",
            "               coef\n",
            "intercept  1.984498\n",
            "qsmk       2.540581\n",
            "\n",
            "Weighted Model Coefs:\n",
            "               coef\n",
            "intercept  1.783411\n",
            "qsmk       3.337162\n"
          ]
        }
      ]
    },
    {
      "cell_type": "markdown",
      "source": [
        "We can interpret the causal effect of quitting smoking on weight gain to be 3.27kg (~7.2lbs), i.e., quitting smoking can cause someone on average to gain 3.27kgs."
      ],
      "metadata": {
        "id": "mzvlKg4Ky9sb"
      }
    },
    {
      "cell_type": "markdown",
      "source": [
        "Looking at the unweighted (biased) model, we see that there is a difference in the effect. We can measure this difference:"
      ],
      "metadata": {
        "id": "14s_JGJ7zWao"
      }
    },
    {
      "cell_type": "code",
      "source": [
        "# measure percent change of unbiased to biased\n",
        "bias_pct_chg = ((biased_effect - causal_effect) / biased_effect) * 100\n",
        "print(f\"Bias: {round(bias_pct_chg, 2)} %\")"
      ],
      "metadata": {
        "id": "npLS9mZ4fMYN",
        "colab": {
          "base_uri": "https://localhost:8080/"
        },
        "outputId": "f66d4eeb-a357-46fa-edec-9da1c3608ccb"
      },
      "execution_count": null,
      "outputs": [
        {
          "output_type": "stream",
          "name": "stdout",
          "text": [
            "Bias: -31.35 %\n"
          ]
        }
      ]
    },
    {
      "cell_type": "markdown",
      "source": [
        "We observe that the biased model estimates individual weight gain to be around 29% lower than in reality. While this may seem to be a minor issue in this study, a 29% bias can have a major impact in many areas. For example: drug effectiveness, probability of survival, pollution density, temperature change, etc. We can visualize this bias to further see how the weights in the model adjust the bias on the treatment effect."
      ],
      "metadata": {
        "id": "rUhLLxd4zsM0"
      }
    },
    {
      "cell_type": "code",
      "source": [
        "plot_df = pd.DataFrame({'Name': ['Control', 'Biased Effect', 'Causal Effect'], 'results': [lr_weighted.intercept_, biased_effect, causal_effect]})\n",
        "\n",
        "barplot = plt.barh(plot_df.Name,plot_df.results)\n",
        "barplot[1].set_color('r')\n",
        "barplot[2].set_color('g')\n",
        "plt.show()"
      ],
      "metadata": {
        "id": "n6r_CUDXHIBM",
        "colab": {
          "base_uri": "https://localhost:8080/",
          "height": 265
        },
        "outputId": "85304109-73fa-4ef9-f9b2-7ecc449b4b7a"
      },
      "execution_count": null,
      "outputs": [
        {
          "output_type": "display_data",
          "data": {
            "text/plain": [
              "<Figure size 432x288 with 1 Axes>"
            ],
            "image/png": "[encoded data removed]"
          },
          "metadata": {
            "needs_background": "light"
          }
        }
      ]
    }
  ]
}